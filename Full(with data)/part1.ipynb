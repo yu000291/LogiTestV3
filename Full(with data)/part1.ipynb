{
 "cells": [
  {
   "cell_type": "code",
   "execution_count": 4,
   "id": "4eb788a9",
   "metadata": {},
   "outputs": [
    {
     "name": "stdout",
     "output_type": "stream",
     "text": [
      "<class 'pandas.core.frame.DataFrame'>\n",
      "RangeIndex: 24203 entries, 0 to 24202\n",
      "Data columns (total 14 columns):\n",
      " #   Column                Non-Null Count  Dtype \n",
      "---  ------                --------------  ----- \n",
      " 0   logi_id               24203 non-null  object\n",
      " 1   Region                24203 non-null  object\n",
      " 2   sku                   24203 non-null  object\n",
      " 3   fiscal_week_end_date  24203 non-null  object\n",
      " 4   fiscal_week_alias     24203 non-null  object\n",
      " 5   a                     24203 non-null  int64 \n",
      " 6   b                     24203 non-null  int64 \n",
      " 7   c                     24203 non-null  int64 \n",
      " 8   d                     24203 non-null  int64 \n",
      " 9   e                     24203 non-null  int64 \n",
      " 10  f                     24203 non-null  int64 \n",
      " 11  g                     24203 non-null  int64 \n",
      " 12  h                     24203 non-null  int64 \n",
      " 13  i                     24203 non-null  int64 \n",
      "dtypes: int64(9), object(5)\n",
      "memory usage: 2.6+ MB\n"
     ]
    },
    {
     "data": {
      "text/plain": [
       "(None,\n",
       "      logi_id Region         sku fiscal_week_end_date fiscal_week_alias  a  b  \\\n",
       " 0  C21000174  LATAM  800-000100            10/1/2021          Q222Wk13  0  0   \n",
       " 1  C21000174  LATAM  800-000100            10/8/2021          Q322Wk01  0  0   \n",
       " 2  C21000174  LATAM  800-000100           10/15/2021          Q322Wk02  0  0   \n",
       " 3  C21000174  LATAM  800-000100           10/22/2021          Q322Wk03  0  0   \n",
       " 4  C21000174  LATAM  800-000100           10/29/2021          Q322Wk04  0  0   \n",
       " \n",
       "    c  d  e  f  g  h  i  \n",
       " 0  0  0  0  6  0  0  0  \n",
       " 1  0  0  0  5  0  0  0  \n",
       " 2  1  0  0  5  0  0  0  \n",
       " 3  0  0  0  5  0  0  0  \n",
       " 4  2  0  0  3  0  0  0  )"
      ]
     },
     "execution_count": 4,
     "metadata": {},
     "output_type": "execute_result"
    }
   ],
   "source": [
    "import pandas as pd\n",
    "\n",
    "file_path = 'SC_DATA.csv'\n",
    "sc_data = pd.read_csv(file_path)\n",
    "\n",
    "# Display basic information and the first few rows of the dataset\n",
    "sc_data_info = sc_data.info()\n",
    "sc_data_head = sc_data.head()\n",
    "\n",
    "sc_data_info, sc_data_head"
   ]
  },
  {
   "cell_type": "code",
   "execution_count": 5,
   "id": "e501a101",
   "metadata": {},
   "outputs": [
    {
     "name": "stdout",
     "output_type": "stream",
     "text": [
      "datetime64[ns]\n"
     ]
    }
   ],
   "source": [
    "import pandas as pd\n",
    "\n",
    "file_path = 'SC_DATA.csv'\n",
    "sc_data = pd.read_csv(file_path)\n",
    "\n",
    "# Convert 'fiscal_week_end_date' to datetime format\n",
    "sc_data['fiscal_week_end_date'] = pd.to_datetime(sc_data['fiscal_week_end_date'])\n",
    "\n",
    "# Verify the conversion\n",
    "print(sc_data['fiscal_week_end_date'].dtype)\n"
   ]
  },
  {
   "cell_type": "code",
   "execution_count": null,
   "id": "8d854c03",
   "metadata": {},
   "outputs": [],
   "source": [
    "# so the a to i might be the sales or Products that were sold and later returne, or revenue.\n",
    "#Revenue: The total income from sales before expenses."
   ]
  },
  {
   "cell_type": "code",
   "execution_count": 3,
   "id": "f0585811",
   "metadata": {},
   "outputs": [],
   "source": [
    "sc_data.to_csv(\"sc_data_convert.csv\")\n",
    "#convert to csv for further explore in Tableau"
   ]
  },
  {
   "cell_type": "code",
   "execution_count": 11,
   "id": "40e91283",
   "metadata": {},
   "outputs": [
    {
     "name": "stdout",
     "output_type": "stream",
     "text": [
      "Duplicate Columns:\n",
      "Column e is identical to columns i\n"
     ]
    }
   ],
   "source": [
    "#check for duplicates\n",
    "# List of columns to check\n",
    "columns_to_check = ['a', 'b', 'c', 'd', 'e', 'f', 'g', 'h', 'i']\n",
    "duplicate_columns = {col: [] for col in columns_to_check}  # Dictionary to hold duplicates for each column\n",
    "\n",
    "# Compare each column with every other column to find duplicates\n",
    "for i in range(len(columns_to_check)):\n",
    "    for j in range(i + 1, len(columns_to_check)):\n",
    "        if sc_data[columns_to_check[i]].equals(sc_data[columns_to_check[j]]):\n",
    "            duplicate_columns[columns_to_check[i]].append(columns_to_check[j])\n",
    "\n",
    "# Filter out any entries with no duplicates\n",
    "duplicate_columns = {key: val for key, val in duplicate_columns.items() if val}\n",
    "\n",
    "# Print out any duplicate columns found\n",
    "print(\"Duplicate Columns:\")\n",
    "for key, value in duplicate_columns.items():\n",
    "    print(f\"Column {key} is identical to columns {', '.join(value)}\")"
   ]
  },
  {
   "cell_type": "code",
   "execution_count": 6,
   "id": "c23593a9",
   "metadata": {},
   "outputs": [
    {
     "name": "stdout",
     "output_type": "stream",
     "text": [
      "Unique Regions: ['LATAM' 'Asia Pacific' 'America']\n",
      "Number of Unique SKUs: 1249\n",
      "Descriptive Statistics for Numerical Columns:\n",
      "                   a             b             c             d        e  \\\n",
      "count  24203.000000  24203.000000  24203.000000  24203.000000  24203.0   \n",
      "mean      46.022931     -0.228236     48.294550      0.040532      0.0   \n",
      "std      303.013554      2.698505    181.679658      3.268216      0.0   \n",
      "min        0.000000   -300.000000    -94.000000      0.000000      0.0   \n",
      "25%        0.000000      0.000000      0.000000      0.000000      0.0   \n",
      "50%        0.000000      0.000000      2.000000      0.000000      0.0   \n",
      "75%        0.000000      0.000000     20.000000      0.000000      0.0   \n",
      "max    15260.000000      0.000000   5012.000000    441.000000      0.0   \n",
      "\n",
      "                  f             g             h        i  \n",
      "count  24203.000000  24203.000000  24203.000000  24203.0  \n",
      "mean     191.272859     99.118167      0.033178      0.0  \n",
      "std      702.797156    580.274193      3.126446      0.0  \n",
      "min        0.000000      0.000000      0.000000      0.0  \n",
      "25%        1.000000      0.000000      0.000000      0.0  \n",
      "50%       20.000000      0.000000      0.000000      0.0  \n",
      "75%      124.000000      0.000000      0.000000      0.0  \n",
      "max    19790.000000  22244.000000    441.000000      0.0  \n"
     ]
    }
   ],
   "source": [
    "# Check unique values in 'Region'\n",
    "unique_regions = sc_data['Region'].unique()\n",
    "print(\"Unique Regions:\", unique_regions)\n",
    "\n",
    "# Check the number of unique SKUs\n",
    "unique_skus = sc_data['sku'].nunique()\n",
    "print(\"Number of Unique SKUs:\", unique_skus)\n",
    "\n",
    "# Get descriptive statistics for numerical columns (a to i)\n",
    "numerical_stats = sc_data.loc[:, 'a':'i'].describe()\n",
    "print(\"Descriptive Statistics for Numerical Columns:\\n\", numerical_stats)"
   ]
  },
  {
   "cell_type": "code",
   "execution_count": 12,
   "id": "544e297f",
   "metadata": {},
   "outputs": [
    {
     "name": "stdout",
     "output_type": "stream",
     "text": [
      "Rows with Outliers:\n",
      "          logi_id Region         sku fiscal_week_end_date fiscal_week_alias  \\\n",
      "38     C21000174  LATAM  800-000102           2021-12-10          Q322Wk10   \n",
      "198    C21000174  LATAM  800-000114           2021-12-03          Q322Wk09   \n",
      "1287   C21000174  LATAM  800-000211           2021-10-15          Q322Wk02   \n",
      "1475   C21000174  LATAM  800-000230           2021-11-12          Q322Wk06   \n",
      "1847   C21000126  LATAM  800-000264           2021-12-03          Q322Wk09   \n",
      "...          ...    ...         ...                  ...               ...   \n",
      "24056  C21000124  LATAM  800-000113           2021-12-03          Q322Wk09   \n",
      "24057  C21000124  LATAM  800-000113           2021-12-10          Q322Wk10   \n",
      "24058  C21000124  LATAM  800-000113           2021-12-17          Q322Wk11   \n",
      "24059  C21000124  LATAM  800-000113           2021-12-24          Q322Wk12   \n",
      "24060  C21000124  LATAM  800-000113           2021-12-31          Q322Wk13   \n",
      "\n",
      "          a    b     c   d  e     f     g   h  i  \n",
      "38        0    0    24  33  0   551     0  33  0  \n",
      "198       0  -20     1   0  0   118     0   0  0  \n",
      "1287      0  -10    39   0  0   177   180   0  0  \n",
      "1475      0 -300    28   0  0   395     0   0  0  \n",
      "1847   1000    0     0   0  0    92  1000   0  0  \n",
      "...     ...  ...   ...  .. ..   ...   ...  .. ..  \n",
      "24056     0    0     5   0  0  2320     0   0  0  \n",
      "24057     0    0   596   0  0  2184     0   0  0  \n",
      "24058     0    0    16   0  0  2964     0   0  0  \n",
      "24059     0    0     0   0  0  2964     0   0  0  \n",
      "24060     0    0  1000   0  0  2464     0   0  0  \n",
      "\n",
      "[1009 rows x 14 columns]\n"
     ]
    }
   ],
   "source": [
    "from scipy import stats\n",
    "numeric_columns = sc_data.loc[:, 'a':'i']\n",
    "z_scores = stats.zscore(numeric_columns)\n",
    "\n",
    "# Convert Z-scores to a DataFrame for easier handling\n",
    "z_scores_df = pd.DataFrame(z_scores, columns=numeric_columns.columns)\n",
    "\n",
    "# Set a threshold for identifying outliers\n",
    "threshold = 3\n",
    "\n",
    "# Find where any column values have absolute Z-score greater than the threshold\n",
    "outliers = (z_scores_df.abs() > threshold).any(axis=1)\n",
    "\n",
    "# Display rows in the original dataframe that contain outliers\n",
    "outlier_data = sc_data[outliers]\n",
    "\n",
    "print(\"Rows with Outliers:\\n\", outlier_data)"
   ]
  },
  {
   "cell_type": "code",
   "execution_count": 14,
   "id": "78a662a3",
   "metadata": {},
   "outputs": [
    {
     "name": "stderr",
     "output_type": "stream",
     "text": [
      "C:\\conda\\lib\\site-packages\\seaborn\\categorical.py:82: FutureWarning: iteritems is deprecated and will be removed in a future version. Use .items instead.\n",
      "  plot_data = [np.asarray(s, float) for k, s in iter_data]\n"
     ]
    },
    {
     "data": {
      "image/png": "[encoded data removed]",
      "text/plain": [
       "<Figure size 864x432 with 1 Axes>"
      ]
     },
     "metadata": {
      "needs_background": "light"
     },
     "output_type": "display_data"
    }
   ],
   "source": [
    "import matplotlib.pyplot as plt\n",
    "import seaborn as sns\n",
    "\n",
    "# Create a boxplot for all numeric columns to visualize outliers\n",
    "plt.figure(figsize=(12, 6))\n",
    "sns.boxplot(data=numeric_columns)\n",
    "plt.title('Box Plot of Numeric Columns a to i')\n",
    "plt.ylabel('Values')\n",
    "plt.xlabel('Columns')\n",
    "plt.xticks(rotation=45)\n",
    "plt.grid(True)\n",
    "plt.show()"
   ]
  },
  {
   "cell_type": "markdown",
   "id": "a80eeb2f",
   "metadata": {},
   "source": [
    "Observations\n",
    "\n",
    "1. Columns a to i might represent sales or products that were sold and later returned, or revenue.\n",
    "2. There are 3 unique regions: 'LATAM', 'Asia Pacific', and 'America'.\n",
    "3. There are 1249 unique SKUs.\n",
    "4. Columns e and i are all 0s.\n",
    "5. There are data type issues.\n",
    "6. For columns a, c, and f, these columns are right-skewed.\n",
    "\n",
    "Fixes\n",
    "\n",
    "1. Convert 'fiscal_week_end_date' to datetime format.\n",
    "2. For skewed datasets, we can use normalization.\n",
    "3. For columns e and i, need to confirm the meaning of the numerical values.\n",
    "\n",
    "Anomaly Detection\n",
    "\n",
    "\n",
    "1. Use statistical metrics like mean, median, and standard deviation to find outliers in numerical columns. Z-score or IQR (Interquartile Range) methods can be effective.\n",
    "2. Plotting data can sometimes reveal outliers directly. Box plots and scatter plots are particularly useful for this.\n",
    "\n",
    "The boxes, which represent the interquartile range (IQR), seem to be very small or not visible for most of the columns, which suggests that the middle 50% of the values in these columns are very close to each other.\n",
    "It's also worth noting the scale of the y-axis goes up to over 20,000, but most of the data (including the IQR and the whiskers) for columns a to i is clustered near the bottom of the plot. This highlights the presence of extreme outliers in the data."
   ]
  },
  {
   "cell_type": "code",
   "execution_count": null,
   "id": "b0716599",
   "metadata": {},
   "outputs": [],
   "source": []
  }
 ],
 "metadata": {
  "kernelspec": {
   "display_name": "Python 3 (ipykernel)",
   "language": "python",
   "name": "python3"
  },
  "language_info": {
   "codemirror_mode": {
    "name": "ipython",
    "version": 3
   },
   "file_extension": ".py",
   "mimetype": "text/x-python",
   "name": "python",
   "nbconvert_exporter": "python",
   "pygments_lexer": "ipython3",
   "version": "3.9.7"
  }
 },
 "nbformat": 4,
 "nbformat_minor": 5
}
