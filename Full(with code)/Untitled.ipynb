{
 "cells": [
  {
   "cell_type": "code",
   "execution_count": 1,
   "id": "6bed870a",
   "metadata": {},
   "outputs": [
    {
     "name": "stdout",
     "output_type": "stream",
     "text": [
      "   Parent Store Number  Sales\n",
      "0                  183  55861\n",
      "1                  190  38706\n",
      "2                  350  42365\n",
      "3                  358  47427\n",
      "4                  462  39052\n"
     ]
    }
   ],
   "source": [
    "import pandas as pd\n",
    "\n",
    "# Load the sales data\n",
    "file_path = 'total_sale.csv'\n",
    "sales_data = pd.read_csv(file_path)\n",
    "\n",
    "# Check the first few rows of the dataset\n",
    "print(sales_data.head())\n"
   ]
  },
  {
   "cell_type": "code",
   "execution_count": 3,
   "id": "9cd2ccd4",
   "metadata": {},
   "outputs": [
    {
     "data": {
      "text/plain": [
       "array([31143., 39052., 47427.])"
      ]
     },
     "execution_count": 3,
     "metadata": {},
     "output_type": "execute_result"
    }
   ],
   "source": [
    "thresholds "
   ]
  },
  {
   "cell_type": "code",
   "execution_count": 2,
   "id": "ecdbcc39",
   "metadata": {},
   "outputs": [
    {
     "name": "stdout",
     "output_type": "stream",
     "text": [
      "    Parent Store Number  Sales    Tier\n",
      "0                   183  55861  Tier 1\n",
      "1                   190  38706  Tier 3\n",
      "2                   350  42365  Tier 2\n",
      "3                   358  47427  Tier 1\n",
      "4                   462  39052  Tier 2\n",
      "5                   557  31143  Tier 3\n",
      "6                   660  25524  Tier 4\n",
      "7                  1044  62950  Tier 1\n",
      "8                  1400  26624  Tier 4\n",
      "9                  1470  34290  Tier 3\n",
      "10                 1499  39559  Tier 2\n",
      "11                 1531  49093  Tier 1\n",
      "12                 1768  17325  Tier 4\n"
     ]
    }
   ],
   "source": [
    "import numpy as np\n",
    "\n",
    "# Calculate percentiles\n",
    "percentiles = [25, 50, 75]\n",
    "thresholds = np.percentile(sales_data['Sales'], percentiles)\n",
    "\n",
    "# Define a function to assign tiers based on sales\n",
    "def assign_tier(sale):\n",
    "    if sale < thresholds[0]:\n",
    "        return 'Tier 4'  # Below 25th percentile\n",
    "    elif sale < thresholds[1]:\n",
    "        return 'Tier 3'  # Between 25th and 50th percentile\n",
    "    elif sale < thresholds[2]:\n",
    "        return 'Tier 2'  # Between 50th and 75th percentile\n",
    "    else:\n",
    "        return 'Tier 1'  # Above 75th percentile\n",
    "\n",
    "# Apply tier assignment\n",
    "sales_data['Tier'] = sales_data['Sales'].apply(assign_tier)\n",
    "\n",
    "# Display updated data\n",
    "print(sales_data)\n"
   ]
  },
  {
   "cell_type": "code",
   "execution_count": 6,
   "id": "488151cc",
   "metadata": {},
   "outputs": [
    {
     "name": "stdout",
     "output_type": "stream",
     "text": [
      "    Parent Store Number  Sales    Tier\n",
      "7                  1044  62950  Tier 1\n",
      "0                   183  55861  Tier 1\n",
      "11                 1531  49093  Tier 1\n",
      "3                   358  47427  Tier 1\n",
      "2                   350  42365  Tier 2\n",
      "10                 1499  39559  Tier 2\n",
      "4                   462  39052  Tier 2\n",
      "1                   190  38706  Tier 3\n",
      "9                  1470  34290  Tier 3\n",
      "5                   557  31143  Tier 3\n",
      "8                  1400  26624  Tier 4\n",
      "6                   660  25524  Tier 4\n",
      "12                 1768  17325  Tier 4\n"
     ]
    }
   ],
   "source": [
    "df_sorted = sales_data.sort_values(by='Sales', ascending=False)\n",
    "\n",
    "# Display the sorted DataFrame\n",
    "print(df_sorted)"
   ]
  },
  {
   "cell_type": "code",
   "execution_count": 7,
   "id": "810e43a2",
   "metadata": {},
   "outputs": [],
   "source": [
    "df_sorted.to_csv('tier_sorted.csv')"
   ]
  },
  {
   "cell_type": "code",
   "execution_count": null,
   "id": "dd899a4f",
   "metadata": {},
   "outputs": [],
   "source": []
  }
 ],
 "metadata": {
  "kernelspec": {
   "display_name": "Python 3 (ipykernel)",
   "language": "python",
   "name": "python3"
  },
  "language_info": {
   "codemirror_mode": {
    "name": "ipython",
    "version": 3
   },
   "file_extension": ".py",
   "mimetype": "text/x-python",
   "name": "python",
   "nbconvert_exporter": "python",
   "pygments_lexer": "ipython3",
   "version": "3.9.7"
  }
 },
 "nbformat": 4,
 "nbformat_minor": 5
}
